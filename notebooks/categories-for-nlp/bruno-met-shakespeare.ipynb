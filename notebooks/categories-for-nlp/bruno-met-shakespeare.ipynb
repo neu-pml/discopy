{
 "cells": [
  {
   "cell_type": "markdown",
   "metadata": {},
   "source": [
    "# Knowledge graph embedding as learning a functor\n",
    "\n"
   ]
  },
  {
   "cell_type": "markdown",
   "metadata": {},
   "source": [
    "Initialise entities (nouns) and relations (verbs)."
   ]
  },
  {
   "cell_type": "code",
   "execution_count": 1,
   "metadata": {},
   "outputs": [
    {
     "data": {
      "image/png": "[encoded data removed]",
      "text/plain": [
       "<Figure size 432x288 with 1 Axes>"
      ]
     },
     "metadata": {
      "needs_background": "light"
     },
     "output_type": "display_data"
    }
   ],
   "source": [
    "from discopy.rigid import Ty, Id, Box, Diagram\n",
    "\n",
    "n, s = Ty('N'), Ty('S')\n",
    "\n",
    "make_word = lambda name, ty: Box(name, Ty(), ty)\n",
    "nouns = [make_word(name, n) for name in ['Bruno', 'Florio', 'Shakespeare']]\n",
    "verbs = [make_word(name, n.l @ s @ n.r) for name in ['met', 'read']]\n",
    "\n",
    "grammar = Diagram.cups(n, n.l) @ Id(s) @ Diagram.cups(n.r, n)\n",
    "sentences = [a @ b @ c >> grammar for a in nouns for b in verbs for c in nouns]\n",
    "sentences[2].draw()"
   ]
  },
  {
   "cell_type": "markdown",
   "metadata": {},
   "source": [
    "### Build a tensor.Functor representing the true state"
   ]
  },
  {
   "cell_type": "code",
   "execution_count": 2,
   "metadata": {},
   "outputs": [
    {
     "name": "stderr",
     "output_type": "stream",
     "text": [
      "WARNING:absl:No GPU/TPU found, falling back to CPU. (Set TF_CPP_MIN_LOG_LEVEL=0 and rerun for more info.)\n"
     ]
    },
    {
     "data": {
      "text/plain": [
       "Tensor(dom=Dim(1), cod=Dim(1), array=[1.])"
      ]
     },
     "execution_count": 2,
     "metadata": {},
     "output_type": "execute_result"
    }
   ],
   "source": [
    "from discopy.tensor import Dim, Tensor, Functor\n",
    "import numpy\n",
    "import jax.numpy as np\n",
    "Tensor.np = np\n",
    "\n",
    "ob = {n: Dim(3), s: Dim(1)}\n",
    "def mapping(box):\n",
    "    if box.name == 'Bruno':\n",
    "        return np.array([1, 0, 0])\n",
    "    if box.name == 'Florio':\n",
    "        return np.array([0, 1, 0])\n",
    "    if box.name == 'Shakespeare':\n",
    "        return np.array([0, 0, 1])\n",
    "    if box.name == 'met':\n",
    "        return np.array([[1, 0, 1], [0, 1, 1], [1, 1, 1]])\n",
    "    if box.name == 'read':\n",
    "        return np.array([[1, 0, 0], [0, 1, 1], [0, 1, 1]])\n",
    "\n",
    "T = Functor(ob, mapping)\n",
    "T(sentences[8])"
   ]
  },
  {
   "cell_type": "markdown",
   "metadata": {},
   "source": [
    "### Parametrise a tensor.Functor "
   ]
  },
  {
   "cell_type": "code",
   "execution_count": 3,
   "metadata": {},
   "outputs": [
    {
     "data": {
      "text/plain": [
       "Tensor(dom=Dim(1), cod=Dim(1), array=[1.13699007])"
      ]
     },
     "execution_count": 3,
     "metadata": {},
     "output_type": "execute_result"
    }
   ],
   "source": [
    "def p_mapping(box, params):\n",
    "    if box.name == 'Bruno':\n",
    "        return np.array(params[0])\n",
    "    if box.name == 'Florio':\n",
    "        return np.array(params[1])\n",
    "    if box.name == 'Shakespeare':\n",
    "        return np.array(params[2])\n",
    "    if box.name == 'met':\n",
    "        return np.array([params[3], params[4]])\n",
    "    if box.name == 'read':\n",
    "        return np.array([params[5], params[6]])\n",
    "\n",
    "ob = {n: Dim(2), s: Dim(1)}\n",
    "F = lambda params: Functor(ob, lambda box: p_mapping(box, params))\n",
    "params0 = numpy.random.rand(6, 2)\n",
    "F(params0)(sentences[8])"
   ]
  },
  {
   "cell_type": "markdown",
   "metadata": {},
   "source": [
    "The loss of a functor is the mean-squared difference with the true labels of sentences."
   ]
  },
  {
   "cell_type": "code",
   "execution_count": 4,
   "metadata": {},
   "outputs": [
    {
     "data": {
      "text/plain": [
       "DeviceArray([[ 0.0223022 ,  0.04048583],\n",
       "             [-0.00051931,  0.0002769 ],\n",
       "             [-0.01686063, -0.03567511],\n",
       "             [-0.00315822, -0.00554015],\n",
       "             [-0.00553753, -0.00982708],\n",
       "             [ 0.00240619,  0.00503511]], dtype=float32)"
      ]
     },
     "execution_count": 4,
     "metadata": {},
     "output_type": "execute_result"
    }
   ],
   "source": [
    "from jax import grad\n",
    "def sigmoid(x):\n",
    "    sig = 1 / (1 + np.exp(-x))\n",
    "    return sig\n",
    "\n",
    "evaluate = lambda F, sentence: sigmoid(F(sentence).array)\n",
    "\n",
    "def mean_squared(y_true, y_pred):\n",
    "    return np.mean((np.array(y_true) - np.array(y_pred)) ** 2)\n",
    "\n",
    "loss = lambda params: mean_squared(*zip(*[(T(sentence).array, evaluate(F(params), sentence))\n",
    "                                          for sentence in sentences]))\n",
    "\n",
    "grad(loss)(params0)"
   ]
  },
  {
   "cell_type": "markdown",
   "metadata": {},
   "source": [
    "Define gradient descent update function."
   ]
  },
  {
   "cell_type": "code",
   "execution_count": 5,
   "metadata": {},
   "outputs": [
    {
     "data": {
      "text/plain": [
       "<function __main__.update(params)>"
      ]
     },
     "execution_count": 5,
     "metadata": {},
     "output_type": "execute_result"
    }
   ],
   "source": [
    "from jax import jit\n",
    "\n",
    "step_size = 0.1\n",
    "\n",
    "@jit\n",
    "def update(params):\n",
    "    return params - step_size * grad(loss)(params)\n",
    "\n",
    "jit(update)"
   ]
  },
  {
   "cell_type": "markdown",
   "metadata": {},
   "source": [
    "Run a learning loop"
   ]
  },
  {
   "cell_type": "code",
   "execution_count": 6,
   "metadata": {},
   "outputs": [
    {
     "name": "stdout",
     "output_type": "stream",
     "text": [
      "Epoch 0 (9805.920 milliseconds)\n",
      "Testing loss: 0.24202\n",
      "Epoch 1 (3.831 milliseconds)\n",
      "Testing loss: 0.23085\n",
      "Epoch 2 (2.954 milliseconds)\n",
      "Testing loss: 0.21644\n",
      "Epoch 3 (4.268 milliseconds)\n",
      "Testing loss: 0.19732\n",
      "Epoch 4 (4.201 milliseconds)\n",
      "Testing loss: 0.17301\n",
      "Epoch 5 (2.780 milliseconds)\n",
      "Testing loss: 0.14514\n",
      "Epoch 6 (2.588 milliseconds)\n",
      "Testing loss: 0.11930\n"
     ]
    }
   ],
   "source": [
    "from time import time\n",
    "\n",
    "epochs, iterations = 7, 30\n",
    "params = numpy.random.rand(6, 2)\n",
    "for epoch in range(epochs):\n",
    "    start = time()\n",
    "    for i in range(iterations):\n",
    "        params = update(params)\n",
    "\n",
    "    print(\"Epoch {} ({:.3f} milliseconds)\".format(epoch, 1e3 * (time() - start)))\n",
    "    print(\"Testing loss: {:.5f}\".format(loss(params)))"
   ]
  },
  {
   "cell_type": "code",
   "execution_count": 7,
   "metadata": {
    "scrolled": true
   },
   "outputs": [],
   "source": [
    "final_params = params"
   ]
  },
  {
   "cell_type": "code",
   "execution_count": 8,
   "metadata": {},
   "outputs": [
    {
     "name": "stdout",
     "output_type": "stream",
     "text": [
      "              precision    recall  f1-score   support\n",
      "\n",
      "         0.0       0.75      1.00      0.86         6\n",
      "         1.0       1.00      0.83      0.91        12\n",
      "\n",
      "    accuracy                           0.89        18\n",
      "   macro avg       0.88      0.92      0.88        18\n",
      "weighted avg       0.92      0.89      0.89        18\n",
      "\n"
     ]
    }
   ],
   "source": [
    "from sklearn.metrics import classification_report\n",
    "\n",
    "y_true = [T(sentence).array for sentence in sentences]\n",
    "y_pred = [0 if evaluate(F(final_params), sentence) < 0.5 else 1 for sentence in sentences]\n",
    "print(classification_report(y_true, y_pred))"
   ]
  },
  {
   "cell_type": "code",
   "execution_count": 9,
   "metadata": {},
   "outputs": [
    {
     "data": {
      "text/plain": [
       "DeviceArray(0.4077197, dtype=float32)"
      ]
     },
     "execution_count": 9,
     "metadata": {},
     "output_type": "execute_result"
    }
   ],
   "source": [
    "evaluate(F(final_params), sentences[2])"
   ]
  },
  {
   "cell_type": "code",
   "execution_count": null,
   "metadata": {},
   "outputs": [],
   "source": []
  }
 ],
 "metadata": {
  "kernelspec": {
   "display_name": "Python 3",
   "language": "python",
   "name": "python3"
  },
  "language_info": {
   "codemirror_mode": {
    "name": "ipython",
    "version": 3
   },
   "file_extension": ".py",
   "mimetype": "text/x-python",
   "name": "python",
   "nbconvert_exporter": "python",
   "pygments_lexer": "ipython3",
   "version": "3.7.4"
  }
 },
 "nbformat": 4,
 "nbformat_minor": 2
}
