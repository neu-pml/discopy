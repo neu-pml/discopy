{
 "cells": [
  {
   "cell_type": "markdown",
   "metadata": {},
   "source": [
    "# Concrete categories and functors in DisCoPy\n",
    "\n",
    "We show how to implement functors from Diagram to concrete categories such as monoid and tensor and how these correspond to weighted context-free grammars and tensor network models respectively. \n",
    "\n",
    "## Monoid\n",
    "Weighted CFGs as functors in the Monoid delooping."
   ]
  },
  {
   "cell_type": "code",
   "execution_count": 1,
   "metadata": {},
   "outputs": [],
   "source": [
    "from discopy import monoidal\n",
    "from discopy.monoidal import Ty\n",
    "from functools import reduce\n",
    "import operator\n",
    "\n",
    "prod = lambda x: reduce(operator.mul, x, 1)\n",
    "\n",
    "class Monoid(monoidal.Box):\n",
    "    def __init__(self, m):\n",
    "        self.m = m\n",
    "        super().__init__(m, Ty(), Ty())\n",
    "\n",
    "    def __repr__(self):\n",
    "        return \"Monoid({})\".format(self.m)\n",
    "\n",
    "    def then(self, other):\n",
    "        if not isinstance(other, Monoid):\n",
    "            raise ValueError\n",
    "        return Monoid(self.m * other.m)\n",
    "\n",
    "    def tensor(self, other):\n",
    "        return Monoid(self.m * other.m)\n",
    "\n",
    "    def __call__(self, *others):\n",
    "        return Monoid(prod([self.m] + [other.m for other in others]))\n",
    "\n",
    "    @staticmethod\n",
    "    def id(x):\n",
    "        if x != Ty():\n",
    "            raise ValueError\n",
    "        return Monoid(1)\n",
    "\n",
    "assert Monoid(2) @ Monoid.id(Ty()) >> Monoid(5) @ Monoid(0.1) == Monoid(1.0)\n",
    "assert Monoid(2)(Monoid(1), Monoid(4)) == Monoid(8)"
   ]
  },
  {
   "cell_type": "markdown",
   "metadata": {
    "scrolled": false
   },
   "source": [
    "A weighted CFG is a monoidal Functor from trees to Monoid."
   ]
  },
  {
   "cell_type": "code",
   "execution_count": 2,
   "metadata": {},
   "outputs": [],
   "source": [
    "from discopy.monoidal import Functor, Box, Id\n",
    "\n",
    "class WeightedGrammar(Functor):\n",
    "    def __init__(self, ar):\n",
    "        ob = lambda x: Ty()\n",
    "        super().__init__(ob, ar, ar_factory=Monoid)\n",
    "\n",
    "weight = lambda box: Monoid(0.5)\\\n",
    "    if (box.dom, box.cod) == (Ty('N'), Ty('A', 'N')) else Monoid(1.0)\n",
    "\n",
    "WCFG = WeightedGrammar(weight)\n",
    "A = Box('A', Ty('N'), Ty('A', 'N'))\n",
    "tree = A >> Id(Ty('A')) @ A\n",
    "assert WCFG(tree) == Monoid(0.25)"
   ]
  },
  {
   "cell_type": "code",
   "execution_count": 3,
   "metadata": {},
   "outputs": [],
   "source": [
    "from discopy.operad import from_nltk, tree2diagram\n",
    "from nltk import CFG\n",
    "from nltk.parse import RecursiveDescentParser\n",
    "grammar = CFG.fromstring(\"\"\"\n",
    "S -> VP NP\n",
    "NP -> D N\n",
    "VP -> N V\n",
    "N -> A N\n",
    "V -> 'crossed'\n",
    "D -> 'the'\n",
    "N -> 'Moses'\n",
    "A -> 'Red'\n",
    "N -> 'Sea'\"\"\")\n",
    "\n",
    "rd = RecursiveDescentParser(grammar)\n",
    "parse = next(rd.parse('Moses crossed the Red Sea'.split()))\n",
    "diagram = tree2diagram(from_nltk(parse))\n",
    "parse2 = next(rd.parse('Moses crossed the Red Red Sea'.split()))\n",
    "diagram2 = tree2diagram(from_nltk(parse2))\n",
    "assert WCFG(diagram).m > WCFG(diagram2).m"
   ]
  },
  {
   "cell_type": "markdown",
   "metadata": {},
   "source": [
    "## Tensor\n",
    "\n",
    "Implementation of the category of tensors with matrix multiplication as 'then' and kronecker product as 'tensor'.\n",
    "Application: Tree Tensor Networks "
   ]
  },
  {
   "cell_type": "code",
   "execution_count": null,
   "metadata": {},
   "outputs": [],
   "source": []
  },
  {
   "cell_type": "markdown",
   "metadata": {},
   "source": [
    "## Function\n",
    "Implementation of the category of Python functions with cartesian product as tensor.\n",
    "Application: towards Montague moodels."
   ]
  },
  {
   "cell_type": "code",
   "execution_count": 4,
   "metadata": {},
   "outputs": [],
   "source": [
    "class Function(monoidal.Box):\n",
    "    def __init__(self, inside, dom, cod):\n",
    "        self.inside = inside\n",
    "        name = \"Function({}, {}, {})\".format(inside, dom, cod)\n",
    "        super().__init__(name, dom, cod)\n",
    "\n",
    "    def then(self, other):\n",
    "        inside = lambda *xs: other(*tuple(self(*xs)))\n",
    "        return Function(inside, self.dom, other.cod)\n",
    "\n",
    "    def tensor(self, other):\n",
    "        def inside(*xs):\n",
    "            left, right = xs[:len(self.dom)], xs[len(self.dom):]\n",
    "            result = tuple(self(*left)) + tuple(other(*right))\n",
    "            return (result[0], ) if len(self.cod @ other.cod) == 1 else result\n",
    "        return Function(inside, self.dom @ other.dom, self.cod @ other.cod)\n",
    "\n",
    "    def __call__(self, *xs): return self.inside(*xs)\n",
    "\n",
    "    @staticmethod\n",
    "    def id(x):\n",
    "        return Function(lambda *xs: xs, x, x)\n",
    "\n",
    "    @staticmethod\n",
    "    def copy(x):\n",
    "        return Function(lambda *xs: (*xs, *xs), x, x @ x)\n",
    "    \n",
    "    @staticmethod\n",
    "    def delete(x):\n",
    "        return Function(lambda *xs: (), x, Ty())\n",
    "    \n",
    "    @staticmethod\n",
    "    def swap(x, y):\n",
    "        return Function(lambda x0, y0: (y0, x0), x @ y, y @ x)"
   ]
  },
  {
   "cell_type": "code",
   "execution_count": 5,
   "metadata": {},
   "outputs": [
    {
     "data": {
      "text/plain": [
       "(True,)"
      ]
     },
     "execution_count": 5,
     "metadata": {},
     "output_type": "execute_result"
    }
   ],
   "source": [
    "from discopy.monoidal import Ty, Id, Box, Functor\n",
    "\n",
    "X = Ty('X')\n",
    "\n",
    "two, three, five = Box('two', Ty(), X), Box('three', Ty(), X), Box('five', Ty(), X)\n",
    "plus, is_ = Box('plus', X @ X, X), Box('is', X @ X, X)\n",
    "sentence = two @ three @ five >> plus @ Id(X) >> is_\n",
    "\n",
    "number = lambda y: Function(lambda: (y, ), Ty(), X)\n",
    "add = Function(lambda x, y: (x + y,), X @ X, X)\n",
    "is_equal = Function(lambda x, y: (x == y, ), X @ X, X)\n",
    "\n",
    "ob = lambda x: x\n",
    "ar = {two: number(2), three: number(3), five: number(5),\n",
    "      is_: is_equal, plus: add}\n",
    "F = Functor(ob, ar, ob_factory=Ty, ar_factory=Function)\n",
    "F(sentence)()"
   ]
  },
  {
   "cell_type": "code",
   "execution_count": 6,
   "metadata": {},
   "outputs": [],
   "source": [
    "copy = Function.copy(X)\n",
    "delete = Function.delete(X)\n",
    "I = Function.id(X)\n",
    "swap = Function.swap(X, X)\n",
    "\n",
    "assert (copy >> copy @ I)(54) == (copy >> I @ copy)(54)\n",
    "assert (copy >> delete @ I)(46) == (copy >> I @ delete)(46)\n",
    "assert (copy >> swap)('was my number') == (copy)('was my number')"
   ]
  }
 ],
 "metadata": {
  "kernelspec": {
   "display_name": "Python 3",
   "language": "python",
   "name": "python3"
  },
  "language_info": {
   "codemirror_mode": {
    "name": "ipython",
    "version": 3
   },
   "file_extension": ".py",
   "mimetype": "text/x-python",
   "name": "python",
   "nbconvert_exporter": "python",
   "pygments_lexer": "ipython3",
   "version": "3.7.4"
  }
 },
 "nbformat": 4,
 "nbformat_minor": 2
}
