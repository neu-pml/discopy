{
 "cells": [
  {
   "cell_type": "code",
   "execution_count": 1,
   "metadata": {},
   "outputs": [],
   "source": [
    "import tensorflow as tf\n",
    "from tensorflow import keras\n",
    "\n",
    "\n",
    "class Network(monoidal.Box):\n",
    "    def __init__(self, dom, cod, model):\n",
    "        self.model = model\n",
    "        super().__init__(\"Network\", dom, cod)\n",
    "\n",
    "    def then(self, other):\n",
    "        inputs = keras.Input(shape=(len(self.dom),))\n",
    "        output = self.model(inputs)\n",
    "        output = other.model(output)\n",
    "        composition = keras.Model(inputs=inputs, outputs=output)\n",
    "        return Network(self.dom, other.cod, composition)\n",
    "\n",
    "    def tensor(self, other):\n",
    "        dom = len(self.dom) + len(other.dom)\n",
    "        cod = len(self.cod) + len(other.cod)\n",
    "        inputs = keras.Input(shape=(dom,))\n",
    "        model1 = keras.layers.Lambda(\n",
    "            lambda x: x[:, :len(self.dom)],)(inputs)\n",
    "        model2 = keras.layers.Lambda(\n",
    "            lambda x: x[:, len(self.dom):],)(inputs)\n",
    "        model1 = self.model(model1)\n",
    "        model2 = other.model(model2)\n",
    "        outputs = keras.layers.Concatenate()([model1, model2])\n",
    "        model = keras.Model(inputs=inputs, outputs=outputs)\n",
    "        return Network(PRO(dom), PRO(cod), model)\n",
    "\n",
    "    @staticmethod\n",
    "    def id(dim):\n",
    "        inputs = keras.Input(shape=(len(dim),))\n",
    "        return Network(dim, dim, keras.Model(inputs=inputs, outputs=inputs))\n",
    "\n",
    "    @staticmethod\n",
    "    def dense_model(dom, cod, name=None, hidden_layer_dims=[], activation=tf.nn.relu):\n",
    "        inputs = keras.Input(shape=(dom,))\n",
    "        model = inputs\n",
    "        for dim in hidden_layer_dims:\n",
    "            model = keras.layers.Dense(dim, activation=activation)(model)\n",
    "        outputs = keras.layers.Dense(cod, activation=activation)(model)\n",
    "        model = keras.Model(inputs=inputs, outputs=outputs, name=name)\n",
    "        return Network(PRO(dom), PRO(cod), model)"
   ]
  },
  {
   "cell_type": "code",
   "execution_count": 13,
   "metadata": {},
   "outputs": [
    {
     "data": {
      "image/png": "[encoded data removed]",
      "text/plain": [
       "<Figure size 432x288 with 1 Axes>"
      ]
     },
     "metadata": {
      "needs_background": "light"
     },
     "output_type": "display_data"
    }
   ],
   "source": [
    "from discopy.monoidal import Ty, Id, Box\n",
    "\n",
    "n, a, np, neg, star = Ty('N'), Ty('A'), Ty('NP'), Ty('Neg'), Ty('*')\n",
    "not_, very, good = Box('not', star, neg), Box('very', star, a), Box('good', star, n)\n",
    "P1, P2 = Box('P1', a @ n, np), Box('P2', neg @ np, np)\n",
    "\n",
    "diagram = not_ @ very @ good >> Id(neg) @ P1 >> P2\n",
    "diagram.draw()"
   ]
  },
  {
   "cell_type": "code",
   "execution_count": 21,
   "metadata": {},
   "outputs": [
    {
     "data": {
      "text/plain": [
       "<keras.engine.functional.Functional at 0x15ed12a10>"
      ]
     },
     "execution_count": 21,
     "metadata": {},
     "output_type": "execute_result"
    }
   ],
   "source": [
    "from discopy.monoidal import Functor\n",
    "\n",
    "dim = 5\n",
    "ob = lambda x: PRO(dim)\n",
    "ar = lambda box: Network.dense_model(len(box.dom) * dim, len(box.cod) * dim, name=box.name)\n",
    "F = Functor(ob, ar, ob_factory=PRO, ar_factory=Network)\n",
    "F(diagram).model"
   ]
  },
  {
   "cell_type": "code",
   "execution_count": null,
   "metadata": {},
   "outputs": [],
   "source": []
  }
 ],
 "metadata": {
  "kernelspec": {
   "display_name": "Python 3",
   "language": "python",
   "name": "python3"
  },
  "language_info": {
   "codemirror_mode": {
    "name": "ipython",
    "version": 3
   },
   "file_extension": ".py",
   "mimetype": "text/x-python",
   "name": "python",
   "nbconvert_exporter": "python",
   "pygments_lexer": "ipython3",
   "version": "3.7.4"
  }
 },
 "nbformat": 4,
 "nbformat_minor": 2
}
